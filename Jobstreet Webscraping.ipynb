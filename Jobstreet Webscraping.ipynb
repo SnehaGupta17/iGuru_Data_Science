{
 "cells": [
  {
   "cell_type": "code",
   "execution_count": 1,
   "id": "f189b7ba-623d-423d-b20d-d3f20d7d11e8",
   "metadata": {},
   "outputs": [],
   "source": [
    "import pandas as pd\n",
    "import requests\n",
    "from bs4 import BeautifulSoup"
   ]
  },
  {
   "cell_type": "code",
   "execution_count": 2,
   "id": "bbc2e0ae-7ef3-499c-b1dd-16daaa982b81",
   "metadata": {},
   "outputs": [],
   "source": [
    "# generate a url for job position and location\n",
    "def get_url(position,location):\n",
    "    position = position.replace(' ','-')\n",
    "    location = location.replace(' ','-')\n",
    "    template = 'https://my.jobstreet.com/{}-jobs-jobs/in-{}'\n",
    "    url = template.format(position,location)\n",
    "    return url"
   ]
  },
  {
   "cell_type": "code",
   "execution_count": 3,
   "id": "9e13c513-6c0d-4d42-a67c-977eeda51cdd",
   "metadata": {},
   "outputs": [
    {
     "data": {
      "text/plain": [
       "'https://my.jobstreet.com/python-developer-jobs-jobs/in-klang'"
      ]
     },
     "execution_count": 3,
     "metadata": {},
     "output_type": "execute_result"
    }
   ],
   "source": [
    "url = get_url('python developer','klang')\n",
    "url"
   ]
  },
  {
   "cell_type": "code",
   "execution_count": 4,
   "id": "9ec87d01-2578-45af-be95-e37bc07a0a86",
   "metadata": {},
   "outputs": [
    {
     "data": {
      "text/plain": [
       "<Response [200]>"
      ]
     },
     "execution_count": 4,
     "metadata": {},
     "output_type": "execute_result"
    }
   ],
   "source": [
    "# check response\n",
    "response = requests.get(url)\n",
    "response\n"
   ]
  },
  {
   "cell_type": "code",
   "execution_count": 5,
   "id": "5f9d0eac-6ff2-4a6d-8ec8-e893c95c736c",
   "metadata": {},
   "outputs": [],
   "source": [
    "# Create a BeautifulSoup Object\n",
    "soup = BeautifulSoup(response.text,'html.parser')"
   ]
  },
  {
   "cell_type": "code",
   "execution_count": 6,
   "id": "8a9a6e8c-ad5f-4287-8d6a-3a3eef066a5f",
   "metadata": {},
   "outputs": [
    {
     "name": "stdout",
     "output_type": "stream",
     "text": [
      "5\n"
     ]
    }
   ],
   "source": [
    "# fetching job cards\n",
    "cards = soup.find_all('article','gepq850 gepq851 eihuid8n eihuid8o eihuid7j eihuid7k eihuidav eihuidaw eihuid9r eihuid9s eihuidh eihuid67 eihuid5f k5millb k5mill9 k5milla i7p5ej18 i7p5ej1b eihuid33 eihuid36')\n",
    "print(len(cards))"
   ]
  },
  {
   "cell_type": "code",
   "execution_count": 7,
   "id": "f5c1b7e9-d04f-42da-b179-02f906f35be9",
   "metadata": {},
   "outputs": [
    {
     "name": "stdout",
     "output_type": "stream",
     "text": [
      "5\n"
     ]
    }
   ],
   "source": [
    "cards = soup.find_all('article',{'data-card-type':'JobCard'})\n",
    "print(len(cards))"
   ]
  },
  {
   "cell_type": "code",
   "execution_count": 8,
   "id": "35921cbb-3ab2-4903-9b00-bd586767d256",
   "metadata": {},
   "outputs": [
    {
     "data": {
      "text/plain": [
       "<article aria-label=\"Programmer\" aria-selected=\"false\" class=\"gepq850 gepq851 eihuid8n eihuid8o eihuid7j eihuid7k eihuidav eihuidaw eihuid9r eihuid9s eihuidh eihuid67 eihuid5f k5millb k5mill9 k5milla i7p5ej18 i7p5ej1b eihuid33 eihuid36\" data-automation=\"normalJob\" data-card-type=\"JobCard\" data-job-id=\"82053853\" data-testid=\"job-card\" id=\"jobcard-1\"><div class=\"gepq850 eihuid4z eihuid4x\"><a class=\"gepq850 gepq85f gepq850 gepq85f eihuid5j eihuidj eihuidk eihuidl eihuidm eihuid7\" data-automation=\"job-list-view-job-link\" href=\"/job/82053853?type=standard&amp;ref=search-standalone\" target=\"_blank\"></a></div><div class=\"gepq850 eihuid4v eihuid51\"><a class=\"gepq850 gepq85f gepq850 gepq85f eihuid5j eihuidj eihuidk eihuidl eihuidm eihuid7 k5mill4\" data-automation=\"job-list-item-link-overlay\" data-run-click-only=\"true\" data-testid=\"job-list-item-link-overlay\" href=\"/job/82053853?type=standard&amp;ref=search-standalone&amp;origin=jobCard\" target=\"_self\"></a></div><div class=\"gepq850 eihuid5j eihuid0 _1qnq8v60\">Listed one day ago</div><div class=\"gepq850 eihuid5b eihuidhf eihuid6v\"><div class=\"gepq850 eihuid5b eihuidh7 eihuidgr eihuidn _16qi62m2d\"><div class=\"gepq850 eihuid4z eihuidr eihuidp eihuidi3 eihuidb7\"><div class=\"gepq850 eihuid5b eihuidhf eihuid6n\"><div class=\"gepq850 eihuid5b eihuidhf eihuid6r\"><div class=\"gepq850 xzpvye1\" data-automation=\"company-logo-container\" data-testid=\"company-logo-container\"><div class=\"gepq850 eihuid5b eihuidn\" data-automation=\"company-logo\"><img class=\"xzpvye0\" loading=\"lazy\" src=\"https://bx-branding-gateway.cloud.seek.com.au/9a29ee3b-e9be-4e4e-81d3-9989e03188ca.2/serpLogo\"/></div></div></div><div class=\"gepq850 eihuid5b eihuidhf eihuid6r\"><div class=\"gepq850\"><h3 class=\"gepq850 eihuid4z i7p5ej0 i7p5ej3 i7p5ej21 _18ybopc4 i7p5eja\"><div class=\"gepq850 eihuid5h eihuid53\"><a class=\"gepq850 gepq85f gepq850 gepq85f k5mille k5millg\" data-automation=\"jobTitle\" data-run-click-only=\"true\" data-testid=\"job-card-title\" href=\"/job/82053853?type=standard&amp;ref=search-standalone&amp;origin=cardTitle\" id=\"job-title-82053853\" target=\"_self\">Programmer</a></div></h3><div class=\"gepq850 eihuid7v\"><span class=\"gepq850 eihuid4z i7p5ej0 i7p5ej1 i7p5ej21 _18ybopc4 i7p5eja\"><div class=\"gepq850 eihuid5h eihuid53\"><span class=\"gepq850 eihuid5j eihuid0 _1qnq8v60\">at<!-- --> </span><a aria-label=\"Jobs at Wan Hai Lines (M) Sdn Bhd\" class=\"gepq850 gepq85f gepq850 gepq85f _1keysrr0 _1keysrr1\" data-automation=\"jobCompany\" data-type=\"company\" href=\"/Wan-Hai-Lines-(M)-Sdn-Bhd-jobs\" target=\"_self\" title=\"Jobs at Wan Hai Lines (M) Sdn Bhd\">Wan Hai Lines (M) Sdn Bhd</a></div></span></div></div></div></div></div><div class=\"gepq850 eihuid4z eihuidr eihuidhv eihuidhz eihuidb7\"><div class=\"gepq850 eihuid5h eihuid53\"><div class=\"gepq850 _16qi62m0 _16qi62m4 _16qi62m1 _16qi62m18 _16qi62m2c _16qi62m3g\"><div class=\"gepq850 eihuid5f\"><button aria-label=\"Sign in to save this job\" class=\"gepq850 gepq857 eihuid8v eihuid7r eihuidb3 eihuid9z eihuid7 eihuidw eihuid5v eihuidp eihuid5f eihuid5b eihuidgj eihuidgv eihuidz eihuidy eihuid5 eihuidib eihuid4 eihuidh vqygka0 vqygka6 _1ucsmu70 f9bd8p0\" data-automation=\"signed-out-save-job\" data-testid=\"signed-out-save-job\" id=\"serp-signed-out-save-job-82053853\" tabindex=\"0\" type=\"button\"><span class=\"gepq850 eihuidj eihuidk eihuidl eihuidm eihuid5j eihuidi eihuid5v eihuidx eihuid6 _1g7rtu60 vqygka4 eihuid4t eihuid4u\"></span><span class=\"gepq850 eihuidj eihuidk eihuidl eihuidm eihuid5j eihuidi eihuid5v eihuidx eihuid6 vqygka3 vqygkai i7p5ej18 i7p5ej1a eihuid2t eihuid2u\"></span><span class=\"gepq850 eihuidj eihuidk eihuidl eihuidm eihuid5j eihuidi eihuid5v eihuidx eihuid6 vqygka2 vqygkaj i7p5ej18 i7p5ej1a eihuid2r eihuid2s\"></span><span class=\"gepq850 eihuid4z eihuid5f _74wkf80 i7p5eji _74wkf81\"><svg aria-hidden=\"true\" class=\"gepq850 eihuidp eihuidn eihuid4z i7p5ej21\" fill=\"currentColor\" focusable=\"false\" height=\"16\" viewbox=\"0 0 24 24\" width=\"16\" xml:space=\"preserve\" xmlns=\"http://www.w3.org/2000/svg\"><path d=\"M19 5.1c.1-1.6-1.1-2.9-2.7-3.1H7.6C6.1 2.1 4.9 3.5 5 5v16c0 .4.2.7.5.9.3.2.7.2 1 0l5.4-3.6 5.4 3.6c.2.1.4.2.6.2.2 0 .3 0 .5-.1.3-.2.5-.5.5-.9l.1-16zm-2 14-4.4-3c-.3-.2-.8-.2-1.1 0l-4.4 3L7 4.9c0-.4.3-.9.7-.9h8.5c.5 0 .8.5.8 1v14.1z\"></path></svg></span></button></div></div></div></div></div><div class=\"gepq850 eihuid5j eihuid0 _1qnq8v60\"><p class=\"gepq850\">This is a Full time job</p></div><div class=\"gepq850 eihuid5b eihuidhf eihuid6n\"><div class=\"gepq850\"><span class=\"gepq850 eihuid4z i7p5ej0 i7p5ej1 i7p5ej21 _18ybopc4 i7p5ej7\"><span class=\"gepq850\" data-automation=\"jobCardLocation\"><a aria-label=\"Limit results to Klang/Port Klang\" class=\"gepq850 gepq85f gepq850 gepq85f _1keysrr0 _1keysrr2\" data-automation=\"jobLocation\" data-type=\"location\" href=\"/python-developer-jobs-jobs/in-Klang-+-Port-Klang-Selangor\" tabindex=\"-1\" target=\"_self\" title=\"Limit results to Klang/Port Klang\">Klang/Port Klang</a></span></span></div><div class=\"gepq850 eihuid4v eihuid50\"><span class=\"gepq850 eihuid4z i7p5ej0 i7p5ej1 i7p5ej21 _18ybopc4 i7p5ej7\"><div class=\"gepq850 eihuid5b eihuidh7 eihuidgf eihuid7f eihuidhn _5qpagp0\"><span class=\"gepq850 eihuid5j eihuid0 _1qnq8v60\">subClassification: Developers/Programmers</span><span class=\"gepq850\" data-automation=\"jobSubClassification\" data-type=\"subClassification\">Developers/Programmers</span><div class=\"gepq850 eihuidff\"></div><span class=\"gepq850 eihuid5j eihuid0 _1qnq8v60\">classification: Information &amp; Communication Technology</span><span class=\"gepq850\" data-automation=\"jobClassification\" data-type=\"classification\">(Information &amp; Communication Technology)</span></div></span></div></div><div class=\"gepq850 eihuid5b eihuidhf eihuid6v\"><span class=\"gepq850 eihuid4z i7p5ej0 i7p5ej1 i7p5ej22 _18ybopc4 i7p5ej7\" data-automation=\"jobListingDate\">1d ago</span></div></div></article>"
      ]
     },
     "execution_count": 8,
     "metadata": {},
     "output_type": "execute_result"
    }
   ],
   "source": [
    "# let's buid the prototype for first card\n",
    "card = cards[0]\n",
    "card"
   ]
  },
  {
   "cell_type": "code",
   "execution_count": 9,
   "id": "43376ca6-10ae-4c11-89d7-5509b5aebc28",
   "metadata": {},
   "outputs": [
    {
     "name": "stdout",
     "output_type": "stream",
     "text": [
      "Programmer\n"
     ]
    }
   ],
   "source": [
    "# fetching the job name\n",
    "job_name = card.find('a',{'data-testid':'job-card-title'})\n",
    "print(job_name.text)"
   ]
  },
  {
   "cell_type": "code",
   "execution_count": null,
   "id": "46c351dc-4c93-4e9e-8481-f2a04aa88535",
   "metadata": {},
   "outputs": [],
   "source": []
  }
 ],
 "metadata": {
  "kernelspec": {
   "display_name": "Python 3 (ipykernel)",
   "language": "python",
   "name": "python3"
  },
  "language_info": {
   "codemirror_mode": {
    "name": "ipython",
    "version": 3
   },
   "file_extension": ".py",
   "mimetype": "text/x-python",
   "name": "python",
   "nbconvert_exporter": "python",
   "pygments_lexer": "ipython3",
   "version": "3.12.7"
  }
 },
 "nbformat": 4,
 "nbformat_minor": 5
}
