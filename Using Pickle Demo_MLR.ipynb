{
 "cells": [
  {
   "cell_type": "code",
   "execution_count": 2,
   "id": "01a58c02",
   "metadata": {},
   "outputs": [],
   "source": [
    "import pandas as pd\n",
    "import pickle"
   ]
  },
  {
   "cell_type": "code",
   "execution_count": null,
   "id": "29dc03fc",
   "metadata": {},
   "outputs": [],
   "source": [
    "mlr_model = pickle.load(open('multiple_reg.pkl','wb'))"
   ]
  },
  {
   "cell_type": "code",
   "execution_count": null,
   "id": "1b8e5016",
   "metadata": {},
   "outputs": [],
   "source": [
    "# Final Predictions\n",
    "\n",
    "california = int(input('Is startup is in California ? Enter 1 if yes else 0 : '))\n",
    "florida = int(input('Is startup is in Florida ? Enter 1 if yes else 0 : '))\n",
    "newyork = int(input('Is startup is in NewYork ? Enter 1 if yes else 0 : '))\n",
    "r_d = int(input('Enter Research & Development Spend : '))\n",
    "admin = int(input('Enter Administration Spend : '))\n",
    "market = int(input('Enter Marketing Spend : '))\n",
    "\n",
    "user_input = {'california':california , 'florida':florida , 'newyork':newyork , 'r_d':r_d ,\n",
    "              'admin':admin , 'market':market}\n",
    "\n",
    "user_data = pd.DataFrame(user_input,index=[0],columns = [])\n",
    "user_data"
   ]
  },
  {
   "cell_type": "code",
   "execution_count": null,
   "id": "fee9d010",
   "metadata": {},
   "outputs": [],
   "source": [
    "import warnings\n",
    "warning.filterwarning() \n",
    "predict_profit = mlr_model.predict(user_data)\n",
    "print(\"\")"
   ]
  }
 ],
 "metadata": {
  "kernelspec": {
   "display_name": "Python 3 (ipykernel)",
   "language": "python",
   "name": "python3"
  },
  "language_info": {
   "codemirror_mode": {
    "name": "ipython",
    "version": 3
   },
   "file_extension": ".py",
   "mimetype": "text/x-python",
   "name": "python",
   "nbconvert_exporter": "python",
   "pygments_lexer": "ipython3",
   "version": "3.12.7"
  }
 },
 "nbformat": 4,
 "nbformat_minor": 5
}
