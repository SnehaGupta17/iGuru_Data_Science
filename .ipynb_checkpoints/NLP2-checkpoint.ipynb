{
 "cells": [
  {
   "cell_type": "code",
   "execution_count": 3,
   "id": "9b426c9a",
   "metadata": {},
   "outputs": [
    {
     "name": "stderr",
     "output_type": "stream",
     "text": [
      "[nltk_data] Downloading package vader_lexicon to C:\\Users\\Sneha\n",
      "[nltk_data]     Gupta\\AppData\\Roaming\\nltk_data...\n"
     ]
    },
    {
     "data": {
      "text/plain": [
       "True"
      ]
     },
     "execution_count": 3,
     "metadata": {},
     "output_type": "execute_result"
    }
   ],
   "source": [
    "import nltk\n",
    "nltk.download('vader_lexicon')"
   ]
  },
  {
   "cell_type": "code",
   "execution_count": 4,
   "id": "93143f05",
   "metadata": {},
   "outputs": [],
   "source": [
    "from nltk.sentiment.vader import SentimentIntensityAnalyzer\n",
    "sid = SentimentIntensityAnalyzer()\n",
    " "
   ]
  },
  {
   "cell_type": "code",
   "execution_count": 7,
   "id": "ff4b1c46",
   "metadata": {},
   "outputs": [
    {
     "name": "stdout",
     "output_type": "stream",
     "text": [
      "{'neg': 0.0, 'neu': 0.417, 'pos': 0.583, 'compound': 0.6369}\n"
     ]
    }
   ],
   "source": [
    "text = \"I love this python programming\"\n",
    "score = sid.polarity_scores(text)\n",
    "print(score)"
   ]
  },
  {
   "cell_type": "code",
   "execution_count": 9,
   "id": "423832a8",
   "metadata": {},
   "outputs": [
    {
     "name": "stdout",
     "output_type": "stream",
     "text": [
      "Text: I love this product! It works great and is very affordable.\n",
      "Sentiment: Positive\n",
      "\n",
      "Text: This product is okay. It gets the job done, but could be better.\n",
      "Sentiment: Positive\n",
      "\n",
      "Text: I hate this product. It doesn't work at all and is a waste of money.\n",
      "Sentiment: Negative\n",
      "\n",
      "Text: I am watching a movie\n",
      "Sentiment: Neutral\n",
      "\n"
     ]
    }
   ],
   "source": [
    "texts = [\n",
    "    \"I love this product! It works great and is very affordable.\",\n",
    "    \"This product is okay. It gets the job done, but could be better.\",\n",
    "    \"I hate this product. It doesn't work at all and is a waste of money.\",\n",
    "    \"I am watching a movie\"\n",
    "]\n",
    " \n",
    "def sentimentFinder(text):\n",
    "    score = sid.polarity_scores(text)\n",
    "    compound = score['compound']\n",
    "    if compound >= 0.05:\n",
    "        return 'Positive'\n",
    "    elif compound <= -0.05:\n",
    "        return 'Negative'\n",
    "    else:\n",
    "        return 'Neutral'\n",
    " \n",
    "for text in texts:\n",
    "    sentiment = sentimentFinder(text)\n",
    "    print(f\"Text: {text}\\nSentiment: {sentiment}\\n\")"
   ]
  },
  {
   "cell_type": "code",
   "execution_count": null,
   "id": "adfb1eb4",
   "metadata": {},
   "outputs": [],
   "source": []
  }
 ],
 "metadata": {
  "kernelspec": {
   "display_name": "Python 3 (ipykernel)",
   "language": "python",
   "name": "python3"
  },
  "language_info": {
   "codemirror_mode": {
    "name": "ipython",
    "version": 3
   },
   "file_extension": ".py",
   "mimetype": "text/x-python",
   "name": "python",
   "nbconvert_exporter": "python",
   "pygments_lexer": "ipython3",
   "version": "3.12.7"
  }
 },
 "nbformat": 4,
 "nbformat_minor": 5
}
