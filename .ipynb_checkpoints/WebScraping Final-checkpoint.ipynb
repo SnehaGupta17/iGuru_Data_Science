{
 "cells": [
  {
   "cell_type": "code",
   "execution_count": 1,
   "id": "926f4f50",
   "metadata": {},
   "outputs": [],
   "source": [
    "# !pip install selenium"
   ]
  },
  {
   "cell_type": "code",
   "execution_count": 6,
   "id": "de93c416",
   "metadata": {},
   "outputs": [],
   "source": [
    "import pandas as pd\n",
    "import requests\n",
    "import random\n",
    "from bs4 import BeautifulSoup\n",
    "import selenium                     # automate web browser\n",
    "from selenium import webdriver      # it will use browser from your machine\n",
    "import time    "
   ]
  },
  {
   "cell_type": "code",
   "execution_count": 2,
   "id": "bccb188c",
   "metadata": {},
   "outputs": [],
   "source": [
    "def get_url(position,location):\n",
    "    position = position.replace(' ','+')\n",
    "    location = location.replace(' ','+')\n",
    "    template = 'https://in.indeed.com/jobs?q={}&l={}'\n",
    "    url = template.format(position,location)\n",
    "    return url"
   ]
  },
  {
   "cell_type": "code",
   "execution_count": 3,
   "id": "cbe05b16",
   "metadata": {},
   "outputs": [
    {
     "name": "stdout",
     "output_type": "stream",
     "text": [
      "https://in.indeed.com/jobs?q=python&l=pune\n"
     ]
    }
   ],
   "source": [
    "url = get_url('python','pune')\n",
    "print(url)"
   ]
  },
  {
   "cell_type": "code",
   "execution_count": 4,
   "id": "e3399dc3",
   "metadata": {},
   "outputs": [],
   "source": [
    "options = webdriver.ChromeOptions()\n",
    "options.add_argument(\"--disable-blink-features=AutomationControlled\")\n",
    "driver = webdriver.Chrome(options=options)\n",
    "driver.get(url)"
   ]
  },
  {
   "cell_type": "code",
   "execution_count": 7,
   "id": "a1ba86e2",
   "metadata": {},
   "outputs": [],
   "source": [
    "time.sleep(random.uniform(3, 7))"
   ]
  },
  {
   "cell_type": "code",
   "execution_count": 8,
   "id": "50cd5882",
   "metadata": {},
   "outputs": [],
   "source": [
    "soup = BeautifulSoup(driver.page_source,'html.parser')"
   ]
  },
  {
   "cell_type": "code",
   "execution_count": 9,
   "id": "cdeee8b6",
   "metadata": {},
   "outputs": [
    {
     "name": "stdout",
     "output_type": "stream",
     "text": [
      "19\n"
     ]
    }
   ],
   "source": [
    "cards = soup.find_all('li','css-1ac2h1w eu4oa1w0')\n",
    "print(len(cards))"
   ]
  },
  {
   "cell_type": "code",
   "execution_count": 10,
   "id": "b708b397",
   "metadata": {},
   "outputs": [],
   "source": [
    "# Find the job listings container\n",
    "job_container = soup.find('div', id='mosaic-provider-jobcards')"
   ]
  },
  {
   "cell_type": "code",
   "execution_count": 11,
   "id": "ba1c7cff",
   "metadata": {},
   "outputs": [
    {
     "name": "stdout",
     "output_type": "stream",
     "text": [
      "Found 19 job listings\n"
     ]
    }
   ],
   "source": [
    "# Find job cards\n",
    "cards = job_container.find_all('li', class_='css-1ac2h1w eu4oa1w0') if job_container else []\n",
    "\n",
    "print(f\"Found {len(cards)} job listings\")\n",
    "\n",
    "# Extract job details\n",
    "jobs = []\n",
    "for card in cards:\n",
    "    # Job Title\n",
    "    title_tag = card.find('h2', class_='jobTitle')\n",
    "    job_title = title_tag.text.strip() if title_tag else \"Not Available\"\n",
    "\n",
    "    # Company Name\n",
    "#     company_tag = card.find('span', class_='companyName')\n",
    "    company_tag = card.find('span', {'data-testid': 'company-name'})\n",
    "    company = company_tag.text.strip() if company_tag else \"Not Available\"\n",
    "\n",
    "    # Salary\n",
    "#     salary_tag = card.find('div', class_='salary-snippet')\n",
    "    salary_tag = card.find('div', {'data-testid': 'attribute_snippet_testid'})\n",
    "    salary = salary_tag.text.strip() if salary_tag else \"Not Provided\"\n",
    "    \n",
    "    location_tag = card.find('div', {'data-testid': 'text-location'})\n",
    "    location = location_tag.text.strip() if location_tag else \"Not Available\"\n",
    "\n",
    "    # Append job details\n",
    "    jobs.append({\"Job Title\": job_title, \"Company\": company, \"Salary\": salary, \"Location\": location})\n"
   ]
  },
  {
   "cell_type": "code",
   "execution_count": 12,
   "id": "01d35f19",
   "metadata": {},
   "outputs": [],
   "source": [
    "# Convert to DataFrame\n",
    "df = pd.DataFrame(jobs)\n",
    "df.to_csv(\"indeed_jobs_final.csv\", index=False)"
   ]
  },
  {
   "cell_type": "code",
   "execution_count": 13,
   "id": "7509582b",
   "metadata": {},
   "outputs": [],
   "source": [
    "# Close the browser\n",
    "# driver.quit()"
   ]
  },
  {
   "cell_type": "code",
   "execution_count": 14,
   "id": "f017b60b",
   "metadata": {},
   "outputs": [
    {
     "name": "stdout",
     "output_type": "stream",
     "text": [
      "              Job Title                           Company  \\\n",
      "0         Not Available                     Not Available   \n",
      "1      Python Developer  L&T Technology Services Limited.   \n",
      "2       python devloper                          TalentXo   \n",
      "3      Python Developer                          Ericsson   \n",
      "4  Data Analyst- Python           Mahindra & Mahindra Ltd   \n",
      "\n",
      "                         Salary           Location  \n",
      "0                  Not Provided      Not Available  \n",
      "1                  Not Provided  Pune, Maharashtra  \n",
      "2  ₹3,00,000 - ₹7,00,000 a year  Pune, Maharashtra  \n",
      "3                  Not Provided  Pune, Maharashtra  \n",
      "4                  Not Provided  Pune, Maharashtra  \n"
     ]
    }
   ],
   "source": [
    "# Display the first few results\n",
    "print(df.head())"
   ]
  },
  {
   "cell_type": "code",
   "execution_count": null,
   "id": "fd1d51f4",
   "metadata": {},
   "outputs": [],
   "source": []
  }
 ],
 "metadata": {
  "kernelspec": {
   "display_name": "Python 3 (ipykernel)",
   "language": "python",
   "name": "python3"
  },
  "language_info": {
   "codemirror_mode": {
    "name": "ipython",
    "version": 3
   },
   "file_extension": ".py",
   "mimetype": "text/x-python",
   "name": "python",
   "nbconvert_exporter": "python",
   "pygments_lexer": "ipython3",
   "version": "3.12.7"
  }
 },
 "nbformat": 4,
 "nbformat_minor": 5
}
